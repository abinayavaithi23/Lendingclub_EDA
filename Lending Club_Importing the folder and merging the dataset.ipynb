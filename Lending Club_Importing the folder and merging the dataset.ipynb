{
 "cells": [
  {
   "cell_type": "code",
   "execution_count": 3,
   "id": "44602d4d",
   "metadata": {},
   "outputs": [],
   "source": [
    "import pandas as pd\n",
    "from glob import glob"
   ]
  },
  {
   "cell_type": "code",
   "execution_count": 23,
   "id": "d3d5555d",
   "metadata": {},
   "outputs": [],
   "source": [
    "import matplotlib.pyplot as plt\n",
    "from sklearn.model_selection import train_test_split\n",
    "import numpy as np\n",
    "from sklearn.linear_model import LogisticRegression\n",
    "from sklearn import metrics\n",
    "import seaborn as sns"
   ]
  },
  {
   "cell_type": "code",
   "execution_count": 19,
   "id": "4ee9e9f2",
   "metadata": {},
   "outputs": [
    {
     "data": {
      "text/plain": [
       "['C:/Users/User/Desktop/LoanData\\\\LoanStats_securev1_2016Q1.csv',\n",
       " 'C:/Users/User/Desktop/LoanData\\\\LoanStats_securev1_2016Q2.csv',\n",
       " 'C:/Users/User/Desktop/LoanData\\\\LoanStats_securev1_2016Q3.csv',\n",
       " 'C:/Users/User/Desktop/LoanData\\\\LoanStats_securev1_2016Q4.csv',\n",
       " 'C:/Users/User/Desktop/LoanData\\\\LoanStats_securev1_2017Q1.csv',\n",
       " 'C:/Users/User/Desktop/LoanData\\\\LoanStats_securev1_2017Q2.csv',\n",
       " 'C:/Users/User/Desktop/LoanData\\\\LoanStats_securev1_2017Q3.csv',\n",
       " 'C:/Users/User/Desktop/LoanData\\\\LoanStats_securev1_2017Q4.csv',\n",
       " 'C:/Users/User/Desktop/LoanData\\\\LoanStats_securev1_2018Q1.csv',\n",
       " 'C:/Users/User/Desktop/LoanData\\\\LoanStats_securev1_2018Q2.csv',\n",
       " 'C:/Users/User/Desktop/LoanData\\\\LoanStats_securev1_2018Q3.csv',\n",
       " 'C:/Users/User/Desktop/LoanData\\\\LoanStats_securev1_2018Q4.csv',\n",
       " 'C:/Users/User/Desktop/LoanData\\\\LoanStats_securev1_2019Q1.csv',\n",
       " 'C:/Users/User/Desktop/LoanData\\\\LoanStats_securev1_2019Q2.csv',\n",
       " 'C:/Users/User/Desktop/LoanData\\\\LoanStats_securev1_2019Q3.csv']"
      ]
     },
     "execution_count": 19,
     "metadata": {},
     "output_type": "execute_result"
    }
   ],
   "source": [
    "data_files = sorted(glob('C:/Users/User/Desktop/LoanData/LoanStats*.csv'))\n",
    "data_files"
   ]
  },
  {
   "cell_type": "code",
   "execution_count": 20,
   "id": "4a508eb7",
   "metadata": {},
   "outputs": [
    {
     "name": "stderr",
     "output_type": "stream",
     "text": [
      "C:\\Users\\User\\AppData\\Local\\Temp\\ipykernel_14396\\3502216327.py:1: DtypeWarning: Columns (19) have mixed types. Specify dtype option on import or set low_memory=False.\n",
      "  mergeddata = pd.concat(pd.read_csv(datafile).assign(sourcefilename = datafile)\n",
      "C:\\Users\\User\\AppData\\Local\\Temp\\ipykernel_14396\\3502216327.py:1: DtypeWarning: Columns (19) have mixed types. Specify dtype option on import or set low_memory=False.\n",
      "  mergeddata = pd.concat(pd.read_csv(datafile).assign(sourcefilename = datafile)\n",
      "C:\\Users\\User\\AppData\\Local\\Temp\\ipykernel_14396\\3502216327.py:1: DtypeWarning: Columns (19,59) have mixed types. Specify dtype option on import or set low_memory=False.\n",
      "  mergeddata = pd.concat(pd.read_csv(datafile).assign(sourcefilename = datafile)\n",
      "C:\\Users\\User\\AppData\\Local\\Temp\\ipykernel_14396\\3502216327.py:1: DtypeWarning: Columns (19) have mixed types. Specify dtype option on import or set low_memory=False.\n",
      "  mergeddata = pd.concat(pd.read_csv(datafile).assign(sourcefilename = datafile)\n",
      "C:\\Users\\User\\AppData\\Local\\Temp\\ipykernel_14396\\3502216327.py:1: DtypeWarning: Columns (118) have mixed types. Specify dtype option on import or set low_memory=False.\n",
      "  mergeddata = pd.concat(pd.read_csv(datafile).assign(sourcefilename = datafile)\n",
      "C:\\Users\\User\\AppData\\Local\\Temp\\ipykernel_14396\\3502216327.py:1: DtypeWarning: Columns (129,130,131,134,135,136,139,144,145,146) have mixed types. Specify dtype option on import or set low_memory=False.\n",
      "  mergeddata = pd.concat(pd.read_csv(datafile).assign(sourcefilename = datafile)\n",
      "C:\\Users\\User\\AppData\\Local\\Temp\\ipykernel_14396\\3502216327.py:1: DtypeWarning: Columns (129,130,131,134,135,136,139,144,145,146) have mixed types. Specify dtype option on import or set low_memory=False.\n",
      "  mergeddata = pd.concat(pd.read_csv(datafile).assign(sourcefilename = datafile)\n",
      "C:\\Users\\User\\AppData\\Local\\Temp\\ipykernel_14396\\3502216327.py:1: DtypeWarning: Columns (144,145,146) have mixed types. Specify dtype option on import or set low_memory=False.\n",
      "  mergeddata = pd.concat(pd.read_csv(datafile).assign(sourcefilename = datafile)\n"
     ]
    }
   ],
   "source": [
    "mergeddata = pd.concat(pd.read_csv(datafile).assign(sourcefilename = datafile)\n",
    "                      for datafile in data_files)"
   ]
  },
  {
   "cell_type": "code",
   "execution_count": 29,
   "id": "479c6b43",
   "metadata": {},
   "outputs": [
    {
     "data": {
      "text/plain": [
       "60"
      ]
     },
     "execution_count": 29,
     "metadata": {},
     "output_type": "execute_result"
    }
   ],
   "source": [
    "# this is how many rows pandas will show by default with methods like pd.dataframe.head()\n",
    "pd.options.display.max_rows"
   ]
  },
  {
   "cell_type": "code",
   "execution_count": 30,
   "id": "55783c10",
   "metadata": {},
   "outputs": [],
   "source": [
    "# we want to increase it, because in this case there are a lot of column names\n",
    "pd.options.display.max_rows = 1000"
   ]
  },
  {
   "cell_type": "code",
   "execution_count": 34,
   "id": "9ba2076a",
   "metadata": {
    "scrolled": true
   },
   "outputs": [
    {
     "data": {
      "text/html": [
       "<div>\n",
       "<style scoped>\n",
       "    .dataframe tbody tr th:only-of-type {\n",
       "        vertical-align: middle;\n",
       "    }\n",
       "\n",
       "    .dataframe tbody tr th {\n",
       "        vertical-align: top;\n",
       "    }\n",
       "\n",
       "    .dataframe thead th {\n",
       "        text-align: right;\n",
       "    }\n",
       "</style>\n",
       "<table border=\"1\" class=\"dataframe\">\n",
       "  <thead>\n",
       "    <tr style=\"text-align: right;\">\n",
       "      <th></th>\n",
       "      <th>id</th>\n",
       "      <th>member_id</th>\n",
       "      <th>loan_amnt</th>\n",
       "      <th>funded_amnt</th>\n",
       "      <th>funded_amnt_inv</th>\n",
       "      <th>term</th>\n",
       "      <th>int_rate</th>\n",
       "      <th>installment</th>\n",
       "      <th>grade</th>\n",
       "      <th>sub_grade</th>\n",
       "      <th>...</th>\n",
       "      <th>hardship_payoff_balance_amount</th>\n",
       "      <th>hardship_last_payment_amount</th>\n",
       "      <th>debt_settlement_flag</th>\n",
       "      <th>debt_settlement_flag_date</th>\n",
       "      <th>settlement_status</th>\n",
       "      <th>settlement_date</th>\n",
       "      <th>settlement_amount</th>\n",
       "      <th>settlement_percentage</th>\n",
       "      <th>settlement_term</th>\n",
       "      <th>sourcefilename</th>\n",
       "    </tr>\n",
       "  </thead>\n",
       "  <tbody>\n",
       "    <tr>\n",
       "      <th>0</th>\n",
       "      <td>75710736</td>\n",
       "      <td>NaN</td>\n",
       "      <td>12800</td>\n",
       "      <td>12800</td>\n",
       "      <td>12800.0</td>\n",
       "      <td>36 months</td>\n",
       "      <td>11.99%</td>\n",
       "      <td>425.09</td>\n",
       "      <td>C</td>\n",
       "      <td>C1</td>\n",
       "      <td>...</td>\n",
       "      <td>NaN</td>\n",
       "      <td>NaN</td>\n",
       "      <td>N</td>\n",
       "      <td>NaN</td>\n",
       "      <td>NaN</td>\n",
       "      <td>NaN</td>\n",
       "      <td>NaN</td>\n",
       "      <td>NaN</td>\n",
       "      <td>NaN</td>\n",
       "      <td>C:/Users/User/Desktop/LoanData\\LoanStats_secur...</td>\n",
       "    </tr>\n",
       "    <tr>\n",
       "      <th>1</th>\n",
       "      <td>76143686</td>\n",
       "      <td>NaN</td>\n",
       "      <td>9000</td>\n",
       "      <td>9000</td>\n",
       "      <td>9000.0</td>\n",
       "      <td>36 months</td>\n",
       "      <td>15.31%</td>\n",
       "      <td>313.36</td>\n",
       "      <td>C</td>\n",
       "      <td>C5</td>\n",
       "      <td>...</td>\n",
       "      <td>NaN</td>\n",
       "      <td>NaN</td>\n",
       "      <td>N</td>\n",
       "      <td>NaN</td>\n",
       "      <td>NaN</td>\n",
       "      <td>NaN</td>\n",
       "      <td>NaN</td>\n",
       "      <td>NaN</td>\n",
       "      <td>NaN</td>\n",
       "      <td>C:/Users/User/Desktop/LoanData\\LoanStats_secur...</td>\n",
       "    </tr>\n",
       "    <tr>\n",
       "      <th>2</th>\n",
       "      <td>76143234</td>\n",
       "      <td>NaN</td>\n",
       "      <td>8000</td>\n",
       "      <td>8000</td>\n",
       "      <td>8000.0</td>\n",
       "      <td>36 months</td>\n",
       "      <td>10.75%</td>\n",
       "      <td>260.97</td>\n",
       "      <td>B</td>\n",
       "      <td>B4</td>\n",
       "      <td>...</td>\n",
       "      <td>NaN</td>\n",
       "      <td>NaN</td>\n",
       "      <td>N</td>\n",
       "      <td>NaN</td>\n",
       "      <td>NaN</td>\n",
       "      <td>NaN</td>\n",
       "      <td>NaN</td>\n",
       "      <td>NaN</td>\n",
       "      <td>NaN</td>\n",
       "      <td>C:/Users/User/Desktop/LoanData\\LoanStats_secur...</td>\n",
       "    </tr>\n",
       "    <tr>\n",
       "      <th>3</th>\n",
       "      <td>76022756</td>\n",
       "      <td>NaN</td>\n",
       "      <td>25000</td>\n",
       "      <td>25000</td>\n",
       "      <td>25000.0</td>\n",
       "      <td>60 months</td>\n",
       "      <td>12.99%</td>\n",
       "      <td>568.70</td>\n",
       "      <td>C</td>\n",
       "      <td>C2</td>\n",
       "      <td>...</td>\n",
       "      <td>NaN</td>\n",
       "      <td>NaN</td>\n",
       "      <td>N</td>\n",
       "      <td>NaN</td>\n",
       "      <td>NaN</td>\n",
       "      <td>NaN</td>\n",
       "      <td>NaN</td>\n",
       "      <td>NaN</td>\n",
       "      <td>NaN</td>\n",
       "      <td>C:/Users/User/Desktop/LoanData\\LoanStats_secur...</td>\n",
       "    </tr>\n",
       "    <tr>\n",
       "      <th>4</th>\n",
       "      <td>76143291</td>\n",
       "      <td>NaN</td>\n",
       "      <td>35000</td>\n",
       "      <td>35000</td>\n",
       "      <td>35000.0</td>\n",
       "      <td>60 months</td>\n",
       "      <td>18.25%</td>\n",
       "      <td>893.54</td>\n",
       "      <td>D</td>\n",
       "      <td>D3</td>\n",
       "      <td>...</td>\n",
       "      <td>NaN</td>\n",
       "      <td>NaN</td>\n",
       "      <td>N</td>\n",
       "      <td>NaN</td>\n",
       "      <td>NaN</td>\n",
       "      <td>NaN</td>\n",
       "      <td>NaN</td>\n",
       "      <td>NaN</td>\n",
       "      <td>NaN</td>\n",
       "      <td>C:/Users/User/Desktop/LoanData\\LoanStats_secur...</td>\n",
       "    </tr>\n",
       "  </tbody>\n",
       "</table>\n",
       "<p>5 rows × 151 columns</p>\n",
       "</div>"
      ],
      "text/plain": [
       "         id  member_id  loan_amnt  funded_amnt  funded_amnt_inv        term  \\\n",
       "0  75710736        NaN      12800        12800          12800.0   36 months   \n",
       "1  76143686        NaN       9000         9000           9000.0   36 months   \n",
       "2  76143234        NaN       8000         8000           8000.0   36 months   \n",
       "3  76022756        NaN      25000        25000          25000.0   60 months   \n",
       "4  76143291        NaN      35000        35000          35000.0   60 months   \n",
       "\n",
       "  int_rate  installment grade sub_grade  ... hardship_payoff_balance_amount  \\\n",
       "0   11.99%       425.09     C        C1  ...                            NaN   \n",
       "1   15.31%       313.36     C        C5  ...                            NaN   \n",
       "2   10.75%       260.97     B        B4  ...                            NaN   \n",
       "3   12.99%       568.70     C        C2  ...                            NaN   \n",
       "4   18.25%       893.54     D        D3  ...                            NaN   \n",
       "\n",
       "  hardship_last_payment_amount debt_settlement_flag  \\\n",
       "0                          NaN                    N   \n",
       "1                          NaN                    N   \n",
       "2                          NaN                    N   \n",
       "3                          NaN                    N   \n",
       "4                          NaN                    N   \n",
       "\n",
       "   debt_settlement_flag_date settlement_status settlement_date  \\\n",
       "0                        NaN               NaN             NaN   \n",
       "1                        NaN               NaN             NaN   \n",
       "2                        NaN               NaN             NaN   \n",
       "3                        NaN               NaN             NaN   \n",
       "4                        NaN               NaN             NaN   \n",
       "\n",
       "  settlement_amount settlement_percentage settlement_term  \\\n",
       "0               NaN                   NaN             NaN   \n",
       "1               NaN                   NaN             NaN   \n",
       "2               NaN                   NaN             NaN   \n",
       "3               NaN                   NaN             NaN   \n",
       "4               NaN                   NaN             NaN   \n",
       "\n",
       "                                      sourcefilename  \n",
       "0  C:/Users/User/Desktop/LoanData\\LoanStats_secur...  \n",
       "1  C:/Users/User/Desktop/LoanData\\LoanStats_secur...  \n",
       "2  C:/Users/User/Desktop/LoanData\\LoanStats_secur...  \n",
       "3  C:/Users/User/Desktop/LoanData\\LoanStats_secur...  \n",
       "4  C:/Users/User/Desktop/LoanData\\LoanStats_secur...  \n",
       "\n",
       "[5 rows x 151 columns]"
      ]
     },
     "execution_count": 34,
     "metadata": {},
     "output_type": "execute_result"
    }
   ],
   "source": [
    "mergeddata.head()"
   ]
  },
  {
   "cell_type": "code",
   "execution_count": 27,
   "id": "54d77908",
   "metadata": {},
   "outputs": [
    {
     "data": {
      "text/plain": [
       "(1763061, 151)"
      ]
     },
     "execution_count": 27,
     "metadata": {},
     "output_type": "execute_result"
    }
   ],
   "source": [
    "mergeddata.shape"
   ]
  },
  {
   "cell_type": "code",
   "execution_count": null,
   "id": "29f30245",
   "metadata": {},
   "outputs": [],
   "source": []
  }
 ],
 "metadata": {
  "kernelspec": {
   "display_name": "Python 3 (ipykernel)",
   "language": "python",
   "name": "python3"
  },
  "language_info": {
   "codemirror_mode": {
    "name": "ipython",
    "version": 3
   },
   "file_extension": ".py",
   "mimetype": "text/x-python",
   "name": "python",
   "nbconvert_exporter": "python",
   "pygments_lexer": "ipython3",
   "version": "3.9.13"
  }
 },
 "nbformat": 4,
 "nbformat_minor": 5
}
